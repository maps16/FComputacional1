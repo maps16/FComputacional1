{
 "metadata": {
  "name": "",
  "signature": "sha256:3c0068ab2894f2af63da4399868e2d91d12ac7ee411078e40ad4f10d07a3120b"
 },
 "nbformat": 3,
 "nbformat_minor": 0,
 "worksheets": [
  {
   "cells": [
    {
     "cell_type": "code",
     "collapsed": false,
     "input": [
      "h = float(input(\"Proporciona la altura de la torre: \"))\n",
      "t = float(input(\"Ingresa el tiempo: \"))\n",
      "s = 0.5*9.81*t**2\n",
      "print(\"La altura de la pelota es\", h-s, \"metros\")"
     ],
     "language": "python",
     "metadata": {},
     "outputs": [
      {
       "name": "stdout",
       "output_type": "stream",
       "stream": "stdout",
       "text": [
        "Proporciona la altura de la torre: 100\n"
       ]
      },
      {
       "name": "stdout",
       "output_type": "stream",
       "stream": "stdout",
       "text": [
        "Ingresa el tiempo: 5\n"
       ]
      },
      {
       "output_type": "stream",
       "stream": "stdout",
       "text": [
        "('La altura de la pelota es', -22.625, 'metros')\n"
       ]
      }
     ],
     "prompt_number": 3
    },
    {
     "cell_type": "code",
     "collapsed": false,
     "input": [],
     "language": "python",
     "metadata": {},
     "outputs": []
    }
   ],
   "metadata": {}
  }
 ]
}